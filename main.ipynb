{
  "nbformat": 4,
  "nbformat_minor": 0,
  "metadata": {
    "colab": {
      "name": "main.ipynb",
      "provenance": [],
      "include_colab_link": true
    },
    "kernelspec": {
      "name": "python3",
      "display_name": "Python 3"
    }
  },
  "cells": [
    {
      "cell_type": "markdown",
      "metadata": {
        "id": "view-in-github",
        "colab_type": "text"
      },
      "source": [
        "<a href=\"https://colab.research.google.com/github/BerensRWU/Complex_YOLO/blob/main/main.ipynb\" target=\"_parent\"><img src=\"https://colab.research.google.com/assets/colab-badge.svg\" alt=\"Open In Colab\"/></a>"
      ]
    },
    {
      "cell_type": "code",
      "metadata": {
        "id": "BdUDLytqDcYQ"
      },
      "source": [
        "import numpy as np\n",
        "import os\n",
        "import argparse\n",
        "import cv2\n",
        "import torch\n",
        "import torch.utils.data as torch_data\n",
        "\n",
        "from models import Darknet\n",
        "from detector import detector, setup_detector\n",
        "from visualize import visualize_func\n",
        "from evaluation import get_batch_statistics_rotated_bbox\n",
        "\n",
        "from utils.astyx_yolo_dataset import AstyxYOLODataset\n",
        "import utils.config as cnf"
      ],
      "execution_count": 11,
      "outputs": []
    },
    {
      "cell_type": "code",
      "metadata": {
        "id": "o9TUzV62H7TZ",
        "outputId": "9309fb69-c271-4681-c450-c305cfffe378",
        "colab": {
          "base_uri": "https://localhost:8080/"
        }
      },
      "source": [
        "from google.colab import drive\n",
        "drive.mount('/content/drive')"
      ],
      "execution_count": 3,
      "outputs": [
        {
          "output_type": "stream",
          "text": [
            "Mounted at /content/drive\n"
          ],
          "name": "stdout"
        }
      ]
    },
    {
      "cell_type": "code",
      "metadata": {
        "id": "Eyip9UtazABg"
      },
      "source": [
        "# this class replace the argparse argument class\n",
        "class arguments:\n",
        "  def __init__(self, model_def, weights_path, conf_thres, nms_thres, iou_thres,\n",
        "              split, radar, estimate_bb, evaluate, visualize):\n",
        "    self.model_def = model_def\n",
        "    self.weights_path = weights_path\n",
        "    self.conf_thres = conf_thres\n",
        "    self.nms_thres = nms_thres\n",
        "    self.iou_thres = iou_thres\n",
        "    self.split = split\n",
        "    self.radar = radar\n",
        "    self.estimate_bb = estimate_bb\n",
        "    self.evaluate = evaluate\n",
        "    self.visualize = visualize"
      ],
      "execution_count": 2,
      "outputs": []
    },
    {
      "cell_type": "code",
      "metadata": {
        "id": "6SWWSaOYMH8e"
      },
      "source": [
        "opt = arguments(model_def = \"network/yolov3-custom.cfg\",\n",
        "                weights_path = \"checkpoints\",\n",
        "                conf_thres = 0.5,\n",
        "                nms_thres = 0.2,\n",
        "                iou_thres = 0.5,\n",
        "                split = \"valid\",\n",
        "                radar = False,\n",
        "                estimate_bb = True,\n",
        "                evaluate = False,\n",
        "                visualize = True)\n",
        "\n",
        "cnf.root_dir = \"drive/My Drive/dataset\""
      ],
      "execution_count": 15,
      "outputs": []
    },
    {
      "cell_type": "code",
      "metadata": {
        "id": "LByAGzhiCaFj"
      },
      "source": [
        "if not os.path.exists(\"output\"):\n",
        "  os.makedirs(\"output\")"
      ],
      "execution_count": 4,
      "outputs": []
    },
    {
      "cell_type": "code",
      "metadata": {
        "id": "x0Y7zUHeLjMD",
        "outputId": "8f2a3dbf-fd1b-4cfa-fc96-ff72087b9d17",
        "colab": {
          "base_uri": "https://localhost:8080/",
          "height": 400
        }
      },
      "source": [
        "if opt.estimate_bb:\n",
        "  # if we want to detect objects we have to setup the model for our purpose\n",
        "  model = setup_detector(opt)\n",
        "  if opt.evaluate:\n",
        "    ngt = 0 # number of all targets\n",
        "    true_positives = []\n",
        "    pred_scores = []"
      ],
      "execution_count": 14,
      "outputs": []
    },
    {
      "cell_type": "code",
      "metadata": {
        "id": "ygNbeQu7D2QW",
        "outputId": "75d4cfcf-5550-4894-d47f-7f924d34da01",
        "colab": {
          "base_uri": "https://localhost:8080/"
        }
      },
      "source": [
        "# Load the Astyx dataset\n",
        "dataset = AstyxYOLODataset(cnf.root_dir, split=opt.split, mode=\"EVAL\", radar=opt.radar)\n",
        "data_loader = torch_data.DataLoader(dataset, batch_size=1, shuffle=False, collate_fn=dataset.collate_fn)\n"
      ],
      "execution_count": 9,
      "outputs": [
        {
          "output_type": "stream",
          "text": [
            "Load EVAL samples from drive/My Drive/dataset/dataset_astyx_hires2019\n",
            "Done: total EVAL samples 107\n"
          ],
          "name": "stdout"
        }
      ]
    },
    {
      "cell_type": "code",
      "metadata": {
        "id": "3Y71tjiAQCzU"
      },
      "source": [
        "# loop over all frames from the split file\n",
        "for index, (sample_id, bev_maps, targets) in enumerate(data_loader):\n",
        "    # Stores detections for each image index\n",
        "    img_detections = []\n",
        "    \n",
        "    # Targets position and dimension values are between 0 - 1, so that they\n",
        "    # have to be transformed to pixel coordinates\n",
        "    targets[:, 2:] *= cnf.BEV_WIDTH\n",
        "    \n",
        "    if opt.estimate_bb:\n",
        "        # detects objects\n",
        "        predictions = detector(model, bev_maps, opt)\n",
        "        img_detections.extend(predictions)\n",
        "        # Calculate if the prediction is a true detection\n",
        "        if opt.evaluate:\n",
        "            ngt += len(targets)\n",
        "            true_positive, pred_score = get_batch_statistics_rotated_bbox(predictions, targets, opt.iou_thres)\n",
        "            \"\"\"\n",
        "            Concatenate all true_positives and pred_scores to two long true_positives and pred_scores lists.\n",
        "            \"\"\"\n",
        "            \n",
        "    # Visualization of the ground truth and if estimated the predicted boxes\n",
        "    if opt.visualize:\n",
        "        visualize_func(bev_maps[0], targets, img_detections, sample_id, opt.estimate_bb)"
      ],
      "execution_count": 10,
      "outputs": []
    },
    {
      "cell_type": "code",
      "metadata": {
        "id": "0yLeW3HeLO-4"
      },
      "source": [
        "if opt.estimate_bb and opt.evaluate:\n",
        "    AP = calculate_ap(true_positives, pred_scores, ngt)"
      ],
      "execution_count": 16,
      "outputs": []
    },
    {
      "cell_type": "code",
      "metadata": {
        "id": "HC6kmSb8QnN5"
      },
      "source": [
        ""
      ],
      "execution_count": null,
      "outputs": []
    },
    {
      "cell_type": "code",
      "metadata": {
        "id": "hCmfcrSZQslr"
      },
      "source": [
        ""
      ],
      "execution_count": null,
      "outputs": []
    },
    {
      "cell_type": "code",
      "metadata": {
        "id": "qnC_HlGxcluP"
      },
      "source": [
        ""
      ],
      "execution_count": null,
      "outputs": []
    },
    {
      "cell_type": "code",
      "metadata": {
        "id": "qF6bsC4NfUoB"
      },
      "source": [
        ""
      ],
      "execution_count": null,
      "outputs": []
    }
  ]
}
