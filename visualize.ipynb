{
  "nbformat": 4,
  "nbformat_minor": 0,
  "metadata": {
    "colab": {
      "name": "visualize.ipynb",
      "provenance": [],
      "mount_file_id": "1sXiLrHtP5O0M-qukKAbAqny-xzkmElLA",
      "authorship_tag": "ABX9TyMMzvsB6wyTriveCYnuCa01",
      "include_colab_link": true
    },
    "kernelspec": {
      "name": "python3",
      "display_name": "Python 3"
    }
  },
  "cells": [
    {
      "cell_type": "markdown",
      "metadata": {
        "id": "view-in-github",
        "colab_type": "text"
      },
      "source": [
        "<a href=\"https://colab.research.google.com/github/BerensRWU/Complex_YOLO/blob/main/visualize.ipynb\" target=\"_parent\"><img src=\"https://colab.research.google.com/assets/colab-badge.svg\" alt=\"Open In Colab\"/></a>"
      ]
    },
    {
      "cell_type": "code",
      "metadata": {
        "id": "BdUDLytqDcYQ"
      },
      "source": [
        "import numpy as np\n",
        "import os\n",
        "import argparse\n",
        "import cv2\n",
        "import torch\n",
        "\n",
        "import utils.utils as utils\n",
        "from models import *\n",
        "import torch.utils.data as torch_data\n",
        "\n",
        "import utils.astyx_bev_utils as bev_utils\n",
        "from utils.astyx_yolo_dataset import AstyxYOLODataset\n",
        "import utils.config as cnf"
      ],
      "execution_count": 1,
      "outputs": []
    },
    {
      "cell_type": "code",
      "metadata": {
        "id": "o9TUzV62H7TZ"
      },
      "source": [
        "from google.colab import drive\n",
        "drive.mount('/content/drive')"
      ],
      "execution_count": null,
      "outputs": []
    },
    {
      "cell_type": "code",
      "metadata": {
        "id": "6SWWSaOYMH8e"
      },
      "source": [
        "model_def = \"network/yolov3-custom.cfg\"\n",
        "weights_path = \"checkpoints\"\n",
        "conf_thres = 0.5\n",
        "nms_thres = 0.2\n",
        "split = \"valid\"\n",
        "radar = True\n",
        "estimate_bb = False"
      ],
      "execution_count": 3,
      "outputs": []
    },
    {
      "cell_type": "code",
      "metadata": {
        "id": "LByAGzhiCaFj"
      },
      "source": [
        "if not os.path.exists(\"output\"):\n",
        "  os.makedirs(\"output\")"
      ],
      "execution_count": 11,
      "outputs": []
    },
    {
      "cell_type": "code",
      "metadata": {
        "id": "x0Y7zUHeLjMD"
      },
      "source": [
        "if estimate_bb:\n",
        "  device = torch.device(\"cuda\" if torch.cuda.is_available() else \"cpu\")\n",
        "\n",
        "  weights_path = os.path.join(weights_path, \"weights_RADAR.pth\" if radar else \"weights_LIDAR.pth\")\n",
        "  # Set up model\n",
        "  model = Darknet(model_def, img_size=cnf.BEV_WIDTH).to(device)\n",
        "  # Load checkpoint weights\n",
        "  model.load_state_dict(torch.load(weights_path, map_location = device))\n",
        "  # Eval mode\n",
        "  model.eval()"
      ],
      "execution_count": 5,
      "outputs": []
    },
    {
      "cell_type": "code",
      "metadata": {
        "id": "ygNbeQu7D2QW"
      },
      "source": [
        "dataset = AstyxYOLODataset(cnf.root_dir, split=split, mode=\"EVAL\", radar=radar)\n",
        "data_loader = torch_data.DataLoader(dataset, batch_size=1, shuffle=False)"
      ],
      "execution_count": null,
      "outputs": []
    },
    {
      "cell_type": "code",
      "metadata": {
        "id": "0yLeW3HeLO-4"
      },
      "source": [
        "Tensor = torch.cuda.FloatTensor if torch.cuda.is_available() else torch.FloatTensor"
      ],
      "execution_count": 7,
      "outputs": []
    },
    {
      "cell_type": "code",
      "metadata": {
        "id": "3Y71tjiAQCzU"
      },
      "source": [
        "for index, (sample_id, bev_maps, targets) in enumerate(data_loader):\n",
        "  if estimate_bb:\n",
        "      # Configure bev image\n",
        "      input_imgs = Variable(bev_maps.type(Tensor))\n",
        "      # Get detections \n",
        "      with torch.no_grad():\n",
        "          detections = model(input_imgs)\n",
        "          detections = utils.non_max_suppression_rotated_bbox(detections, conf_thres, nms_thres) \n",
        "      img_detections = []  # Stores detections for each image index\n",
        "      img_detections.extend(detections)\n",
        "\n",
        "  bev_maps = torch.squeeze(bev_maps).numpy()\n",
        "\n",
        "  RGB_Map = np.zeros((cnf.BEV_WIDTH, cnf.BEV_WIDTH, 3))\n",
        "  # Because cv2 saves BGR instead of RGB\n",
        "  RGB_Map[:, :, 2] = bev_maps[0, :, :]  # height -> r_map \n",
        "  RGB_Map[:, :, 1] = bev_maps[1, :, :]  # density -> g_map\n",
        "  RGB_Map[:, :, 0] = bev_maps[2, :, :]  # intensity/velocity -> b_map\n",
        "  \n",
        "  RGB_Map *= 255\n",
        "  RGB_Map = RGB_Map.astype(np.uint8)\n",
        "  \n",
        "  targets = targets[0]\n",
        "  targets[:, 2:] *= cnf.BEV_WIDTH\n",
        "  for _,cls,x,y,w,l,im,re in targets:\n",
        "      yaw = np.arctan2(im,re)\n",
        "      bev_utils.drawRotatedBox(RGB_Map, x, y, w, l, yaw, [0, 255, 0])\n",
        "      \n",
        "  if estimate_bb:    \n",
        "      for detections in img_detections:\n",
        "          if detections is None:\n",
        "              continue\n",
        "          # Rescale boxes to original image\n",
        "          detections = utils.rescale_boxes(detections, cnf.BEV_WIDTH, RGB_Map.shape[:2])\n",
        "          \n",
        "          for x, y, w, l, im, re, conf, cls_conf, cls_pred in detections:\n",
        "              yaw = np.arctan2(im, re)\n",
        "              # Draw rotated box\n",
        "              bev_utils.drawRotatedBox(RGB_Map, x, y, w, l, yaw, [0, 0, 255])\n",
        "  \n",
        "  cv2.imwrite(\"output/%06d.png\" % sample_id, RGB_Map) # note cv2 RGB->BGR\n"
      ],
      "execution_count": null,
      "outputs": []
    },
    {
      "cell_type": "code",
      "metadata": {
        "id": "HC6kmSb8QnN5"
      },
      "source": [
        ""
      ],
      "execution_count": 14,
      "outputs": []
    },
    {
      "cell_type": "code",
      "metadata": {
        "id": "hCmfcrSZQslr"
      },
      "source": [
        ""
      ],
      "execution_count": 9,
      "outputs": []
    },
    {
      "cell_type": "code",
      "metadata": {
        "id": "qnC_HlGxcluP"
      },
      "source": [
        ""
      ],
      "execution_count": null,
      "outputs": []
    },
    {
      "cell_type": "code",
      "metadata": {
        "id": "qF6bsC4NfUoB"
      },
      "source": [
        ""
      ],
      "execution_count": null,
      "outputs": []
    }
  ]
}
